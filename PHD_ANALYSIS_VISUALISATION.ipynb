{
 "cells": [
  {
   "cell_type": "code",
   "execution_count": 1,
   "id": "efa3b1b2",
   "metadata": {},
   "outputs": [],
   "source": [
    "import pandas as pd\n",
    "import numpy as np\n",
    "import matplotlib.pyplot as plt\n",
    "import seaborn as sns\n",
    "%matplotlib inline\n",
    "from pandas import Series"
   ]
  },
  {
   "cell_type": "code",
   "execution_count": 2,
   "id": "127251f2",
   "metadata": {},
   "outputs": [
    {
     "data": {
      "text/html": [
       "<div>\n",
       "<style scoped>\n",
       "    .dataframe tbody tr th:only-of-type {\n",
       "        vertical-align: middle;\n",
       "    }\n",
       "\n",
       "    .dataframe tbody tr th {\n",
       "        vertical-align: top;\n",
       "    }\n",
       "\n",
       "    .dataframe thead th {\n",
       "        text-align: right;\n",
       "    }\n",
       "</style>\n",
       "<table border=\"1\" class=\"dataframe\">\n",
       "  <thead>\n",
       "    <tr style=\"text-align: right;\">\n",
       "      <th></th>\n",
       "      <th>UNIT</th>\n",
       "      <th>LIFE_BEGINNING</th>\n",
       "      <th>DEATH_END</th>\n",
       "      <th>LANGUAGE_WRITING</th>\n",
       "      <th>MEMORY</th>\n",
       "      <th>VOICE</th>\n",
       "      <th>BUILDING</th>\n",
       "      <th>ROAD</th>\n",
       "      <th>NATURE</th>\n",
       "      <th>WORK</th>\n",
       "      <th>...</th>\n",
       "      <th>MUSIC</th>\n",
       "      <th>+</th>\n",
       "      <th>_</th>\n",
       "      <th>+ | –</th>\n",
       "      <th>na</th>\n",
       "      <th>YEAR</th>\n",
       "      <th>SOURCE</th>\n",
       "      <th>GENRE</th>\n",
       "      <th>PUBLICATION</th>\n",
       "      <th>AUTHOR</th>\n",
       "    </tr>\n",
       "  </thead>\n",
       "  <tbody>\n",
       "    <tr>\n",
       "      <th>0</th>\n",
       "      <td>40 gados kopš Lielas Oktobra revolūcijas mūsu ...</td>\n",
       "      <td>NaN</td>\n",
       "      <td>NaN</td>\n",
       "      <td>NaN</td>\n",
       "      <td>NaN</td>\n",
       "      <td>NaN</td>\n",
       "      <td>NaN</td>\n",
       "      <td>1.0</td>\n",
       "      <td>NaN</td>\n",
       "      <td>NaN</td>\n",
       "      <td>...</td>\n",
       "      <td>NaN</td>\n",
       "      <td>1.0</td>\n",
       "      <td>NaN</td>\n",
       "      <td>NaN</td>\n",
       "      <td>NaN</td>\n",
       "      <td>1958</td>\n",
       "      <td>“Latviešu Mūzika” nr. 1</td>\n",
       "      <td>retrospektīva</td>\n",
       "      <td>PADOMJU LATVIJAS MŪZIKAS KULTŪRA</td>\n",
       "      <td>Nils Grīnfelds</td>\n",
       "    </tr>\n",
       "    <tr>\n",
       "      <th>1</th>\n",
       "      <td>Daudz spožu uzvaru izcīnīts gan kara laukā, ga...</td>\n",
       "      <td>NaN</td>\n",
       "      <td>NaN</td>\n",
       "      <td>NaN</td>\n",
       "      <td>NaN</td>\n",
       "      <td>NaN</td>\n",
       "      <td>NaN</td>\n",
       "      <td>NaN</td>\n",
       "      <td>NaN</td>\n",
       "      <td>NaN</td>\n",
       "      <td>...</td>\n",
       "      <td>NaN</td>\n",
       "      <td>1.0</td>\n",
       "      <td>1.0</td>\n",
       "      <td>NaN</td>\n",
       "      <td>NaN</td>\n",
       "      <td>1958</td>\n",
       "      <td>“Latviešu Mūzika” nr. 1</td>\n",
       "      <td>retrospektīva</td>\n",
       "      <td>PADOMJU LATVIJAS MŪZIKAS KULTŪRA</td>\n",
       "      <td>Nils Grīnfelds</td>\n",
       "    </tr>\n",
       "    <tr>\n",
       "      <th>2</th>\n",
       "      <td>Šī cīņa, kas šodien jau aptver visu zemeslodi,...</td>\n",
       "      <td>NaN</td>\n",
       "      <td>NaN</td>\n",
       "      <td>NaN</td>\n",
       "      <td>NaN</td>\n",
       "      <td>NaN</td>\n",
       "      <td>NaN</td>\n",
       "      <td>NaN</td>\n",
       "      <td>NaN</td>\n",
       "      <td>NaN</td>\n",
       "      <td>...</td>\n",
       "      <td>NaN</td>\n",
       "      <td>1.0</td>\n",
       "      <td>NaN</td>\n",
       "      <td>NaN</td>\n",
       "      <td>NaN</td>\n",
       "      <td>1958</td>\n",
       "      <td>“Latviešu Mūzika” nr. 1</td>\n",
       "      <td>retrospektīva</td>\n",
       "      <td>PADOMJU LATVIJAS MŪZIKAS KULTŪRA</td>\n",
       "      <td>Nils Grīnfelds</td>\n",
       "    </tr>\n",
       "  </tbody>\n",
       "</table>\n",
       "<p>3 rows × 79 columns</p>\n",
       "</div>"
      ],
      "text/plain": [
       "                                                UNIT  LIFE_BEGINNING  \\\n",
       "0  40 gados kopš Lielas Oktobra revolūcijas mūsu ...             NaN   \n",
       "1  Daudz spožu uzvaru izcīnīts gan kara laukā, ga...             NaN   \n",
       "2  Šī cīņa, kas šodien jau aptver visu zemeslodi,...             NaN   \n",
       "\n",
       "   DEATH_END  LANGUAGE_WRITING  MEMORY  VOICE  BUILDING  ROAD  NATURE  WORK  \\\n",
       "0        NaN               NaN     NaN    NaN       NaN   1.0     NaN   NaN   \n",
       "1        NaN               NaN     NaN    NaN       NaN   NaN     NaN   NaN   \n",
       "2        NaN               NaN     NaN    NaN       NaN   NaN     NaN   NaN   \n",
       "\n",
       "   ...  MUSIC    +    _  + | –  na  YEAR                   SOURCE  \\\n",
       "0  ...    NaN  1.0  NaN    NaN NaN  1958  “Latviešu Mūzika” nr. 1   \n",
       "1  ...    NaN  1.0  1.0    NaN NaN  1958  “Latviešu Mūzika” nr. 1   \n",
       "2  ...    NaN  1.0  NaN    NaN NaN  1958  “Latviešu Mūzika” nr. 1   \n",
       "\n",
       "           GENRE                       PUBLICATION          AUTHOR  \n",
       "0  retrospektīva  PADOMJU LATVIJAS MŪZIKAS KULTŪRA  Nils Grīnfelds  \n",
       "1  retrospektīva  PADOMJU LATVIJAS MŪZIKAS KULTŪRA  Nils Grīnfelds  \n",
       "2  retrospektīva  PADOMJU LATVIJAS MŪZIKAS KULTŪRA  Nils Grīnfelds  \n",
       "\n",
       "[3 rows x 79 columns]"
      ]
     },
     "execution_count": 2,
     "metadata": {},
     "output_type": "execute_result"
    }
   ],
   "source": [
    "tautieshi = pd.read_excel('Book1_latvju_muzika_for_LU1.xlsx')\n",
    "soviet = pd.read_excel('Book55_latvieshu_muzika_for_LU1.xlsx')\n",
    "tautieshi.head(3)\n",
    "soviet.head(3)"
   ]
  },
  {
   "cell_type": "code",
   "execution_count": 3,
   "id": "68831ac5",
   "metadata": {},
   "outputs": [],
   "source": [
    "#OUTPUT PAPLAŠINĀŠANA\n",
    "pd.options.display.max_colwidth=1000"
   ]
  },
  {
   "cell_type": "code",
   "execution_count": 12,
   "id": "57f5469b",
   "metadata": {
    "scrolled": true
   },
   "outputs": [
    {
     "name": "stdout",
     "output_type": "stream",
     "text": [
      "44                                                                                                                                                            Tak personības, kam dota retā spēja mirdzēt jau ar savu esmi vien, ir kā mākslas darbs, kas dzīvo tālāk citos, kuri ar viņiem saskārušies.\n",
      "1225                                                                                     Pēdējās stila vēsturnieki parasti piedēvē franču skolai, bet tikpat raksturīgas tās ir kā virzienam diezgan plaši tulkojamam neoklasicismam, kas mūsu gadsimta pirmajā pusē iesakņojās arī daudzās citas zemēs.\n",
      "1609                                                                                               Taisni šai aspektā — un lai atļauts pateikt to jau sākumā — pēdējie Toronto dziesmu svētki izcēlās ir kā vieni no bagātākiem, ir — ievērojot tīri praktiskās iespējas — kā vieni no mērķtiecīgākiem. \n",
      "1613                                                                              Bez tam Toronto mīt citi nopietni mūziķi — viņu vidū latviešu koncertdzīvē nesen ienākusī jaunā ērģelniece Anita Grigale-Rundāne, kurai šai koncertā — ir kā solistei, ir kā pavadītājai — bija nākošā svarīgākā loma.\n",
      "2913                                                                                                                                                                                             Latvju dziesmu svētku simtgade (...) ir kā krustceles, kurās vēršam skatus gan atpakaļ, gan uz priekšu.\n",
      "3351    Nepieminēts paliek Jānis Peitāns, kas jau 1818. gadā Dikļos uzveda latviskotus F. šillera Laupītājus — Eiropas dramatiskās literatūras diždarbu ar personīgās brīvības, cilvēciskās pašcieņas un sociālās taisnības prasībām, kuras pašreizējam krievu režīmam Latvijā ir kā dadzis acīs #idiom.\n",
      "3531                                                                                                                   Divi biezie sējumi: Latviešu dziesmu svētku vēsture un Latviešu dziesmu svētki trimdā — dziesmu svētku „Bībeles\" — nu ir kā smagu rudzu piebērti apcirkņi tautas garamantu klētī.\n",
      "Name: UNIT, dtype: object\n"
     ]
    }
   ],
   "source": [
    "#EXTRACTION OF KEYWORDS\n",
    "    #TAUTIESHI\n",
    "tautieshitxt = tautieshi[tautieshi.UNIT.str.contains('ir kā ',case=False, na=False)].UNIT\n",
    "#tautieshitxt.count()\n",
    "print(tautieshitxt)\n",
    "#tautieshitxt.to_csv(r'tautieshispilgtCOUNT.txt', header=None, index=None, sep=' ', mode='a')\n"
   ]
  },
  {
   "cell_type": "code",
   "execution_count": 13,
   "id": "87eefc3b",
   "metadata": {},
   "outputs": [
    {
     "name": "stdout",
     "output_type": "stream",
     "text": [
      "6027                                 levada muzikālā glezna ir kā atbalsta punkts visai turpmākajai simfonijas attīstībai. #space\n",
      "6037    Šeit galvenā loma ir mežragam, kura mierīgā, lēni augšup kāpjošā frāze ir kā tāls, romantisku ilgu pilns sauciens. #space\n",
      "Name: UNIT, dtype: object\n"
     ]
    }
   ],
   "source": [
    "#EXTRACTION OF KEYWORDS\n",
    "    #SOVIET\n",
    "soviettxt = soviet[soviet.UNIT.str.contains('ir kā ',case=False)].UNIT\n",
    "\n",
    "#soviettxt.count()\n",
    "print(soviettxt)\n",
    "#soviettxt.to_csv(r'psichologija_1_1.txt', header=None, index=None, sep=' ', mode='a')"
   ]
  },
  {
   "cell_type": "code",
   "execution_count": 11,
   "id": "b56de0b1",
   "metadata": {},
   "outputs": [
    {
     "data": {
      "text/plain": [
       "195"
      ]
     },
     "execution_count": 11,
     "metadata": {},
     "output_type": "execute_result"
    }
   ],
   "source": [
    "#GET UNIT OF ANALYSIS WITH CATEGORY VALUE\n",
    "    #TAUTIESHI\n",
    "vienkat_tautieshi = tautieshi[(tautieshi.PROCESS.isin([1]))].UNIT \n",
    "        #& (df.name.str.contains('Allan'))]\n",
    "\n",
    "vienkat_tautieshi.count()\n",
    "#print(vienkat_tautieshi)\n",
    "#vienkat_tautieshi.to_csv(r'vienkat_tautieshi_PROCESS2022.txt', header=None, index=None, sep=' ', mode='a')"
   ]
  },
  {
   "cell_type": "code",
   "execution_count": 12,
   "id": "552acf08",
   "metadata": {},
   "outputs": [
    {
     "data": {
      "text/plain": [
       "264"
      ]
     },
     "execution_count": 12,
     "metadata": {},
     "output_type": "execute_result"
    }
   ],
   "source": [
    "#GET UNIT OF ANALYSIS WITH CATEGORY VALUE\n",
    "    #SOVIET\n",
    "vienkat_soviet = soviet[(soviet.PROCESS.isin([1]))].UNIT \n",
    "        #& (df.name.str.contains('Allan'))]\n",
    "\n",
    "vienkat_soviet.count()    \n",
    "#print(vienkat_soviet)\n",
    "#vienkat_soviet.to_csv(r'vienkat_soviet_PROCESS2022.txt', header=None, index=None, sep=' ', mode='a')"
   ]
  },
  {
   "cell_type": "code",
   "execution_count": 17,
   "id": "ba998fc9",
   "metadata": {},
   "outputs": [
    {
     "data": {
      "text/plain": [
       "112"
      ]
     },
     "execution_count": 17,
     "metadata": {},
     "output_type": "execute_result"
    }
   ],
   "source": [
    "#GET UNIT OF ANALYSIS WITH MULTIPLE CATEGORIES\n",
    "    #TAUTIESHI\n",
    "daudzkatt = tautieshi[(tautieshi.PROCESS.isin([1])) & (tautieshi.MUSIC.isin([1]))].UNIT\n",
    "#print(daudzkat)\n",
    "daudzkatt.count()\n",
    "#daudzkatt.to_csv(r'daudzkat_tautieshiprocessmusic2022.txt', header=None, index=None, sep=' ', mode='a')"
   ]
  },
  {
   "cell_type": "code",
   "execution_count": 16,
   "id": "c1b1fe90",
   "metadata": {},
   "outputs": [],
   "source": [
    "#GET UNIT OF ANALYSIS WITH MULTIPLE CATEGORIES\n",
    "    #SOVIET\n",
    "daudzkats = soviet[(soviet.PROCESS.isin([1])) & (soviet.MUSIC.isin([1]))].UNIT\n",
    "#print(daudzkats)\n",
    "#daudzkats.count()\n",
    "daudzkats.to_csv(r'daudzkat_sovietprocessmusic2022.txt', header=None, index=None, sep=' ', mode='a')"
   ]
  }
 ],
 "metadata": {
  "kernelspec": {
   "display_name": "Python 3",
   "language": "python",
   "name": "python3"
  },
  "language_info": {
   "codemirror_mode": {
    "name": "ipython",
    "version": 3
   },
   "file_extension": ".py",
   "mimetype": "text/x-python",
   "name": "python",
   "nbconvert_exporter": "python",
   "pygments_lexer": "ipython3",
   "version": "3.8.8"
  }
 },
 "nbformat": 4,
 "nbformat_minor": 5
}
